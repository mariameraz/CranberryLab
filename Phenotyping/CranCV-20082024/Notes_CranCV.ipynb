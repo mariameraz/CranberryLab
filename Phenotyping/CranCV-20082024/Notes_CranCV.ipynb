{
 "cells": [
  {
   "cell_type": "markdown",
   "metadata": {},
   "source": [
    "### 1. Activate the conda environment in your console"
   ]
  },
  {
   "cell_type": "markdown",
   "metadata": {
    "vscode": {
     "languageId": "bat"
    }
   },
   "source": [
    "`conda activate /home/torresmeraz/Documents/CranCV-20082024/conda_env_crancnn.yml`"
   ]
  },
  {
   "cell_type": "markdown",
   "metadata": {
    "vscode": {
     "languageId": "bat"
    }
   },
   "source": [
    "#### Arguments:\n",
    "\n",
    "| Option                           | Description                                                                                                 |\n",
    "|----------------------------------|-------------------------------------------------------------------------------------------------------------|\n",
    "| `-h`, `--help`                    | Show this help message and exit.                                                                           |\n",
    "| `-i INPUT`, `--input INPUT`      | Input file(s). Must be valid images or a directory with valid images.                                      |\n",
    "| `-o OUTPUT`, `--output OUTPUT`   | Output CSV file. File name will be created if not specified.                                                |\n",
    "| `-y YOLOPATH`, `--yolo YOLOPATH` | Path to YOLO model file.                                                                                   |\n",
    "| `-s SIZE`, `--size SIZE`         | Diameter in cm of size marker. If none provided, sizes will be reported in pixels.                         |\n",
    "| `-w`, `--writeimg`               | Write out annotated images (Optional).                                                                               |\n",
    "| `-a ANNOTATED`, `--annotated ANNOTATED` | Directory for annotated image files. If `-w` flag is on and no path is specified, one will be created. |\n",
    "| `-n NPROC`, `--nproc NPROC`      | Number of processes to use. Cannot exceed number of CPUs.                                                   |\n",
    "| `--correct`                      | Enable color correction via ColorCorrectionML.                                                             |\n",
    "| `--colmethod {lstsq,linear,pls}` | Color correction method. Must be one of `lstsq`, `linear`, `pls`.                                         |\n",
    "| `--cv2`                          | Use traditional cv2 segmentation instead of CNN-based segmentation.                                         |\n",
    "| `--norows`                       | Do not attempt to sort berries into rows/columns (Default).                                                          |\n",
    "| `--whitebg`                      | Segmentation option for cranberries on a white background with cv2 segmentation (Blue blackground by default).                           |\n"
   ]
  },
  {
   "cell_type": "markdown",
   "metadata": {},
   "source": [
    "### Run the analysis on the console\n",
    "\n",
    "##### First, define your arguments:\n",
    "    CRAN=/home/torresmeraz/Documents/CranCV-20082024/CranExternalV1.py\n",
    "    YOLO=/home/torresmeraz/Documents/CranCV-20082024/yolov8s_weights.pt\n",
    "    INPUT=/home/torresmeraz/Documents/Test/\n",
    "    ANN=/home/torresmeraz/Documents/Test/Annotated/\n",
    "    OUT=/home/torresmeraz/Documents/Test/Sweetie.csv\n",
    " \n",
    "##### Run the analysis with blue background\n",
    "    python3 $CRAN -i $INPUT -o $OUT -s 2 --correct -a $ANN -n 15 -y $YOLO"
   ]
  },
  {
   "cell_type": "code",
   "execution_count": null,
   "metadata": {
    "vscode": {
     "languageId": "plaintext"
    }
   },
   "outputs": [],
   "source": []
  }
 ],
 "metadata": {
  "kernelspec": {
   "display_name": "Python 3",
   "language": "python",
   "name": "python3"
  },
  "language_info": {
   "codemirror_mode": {
    "name": "ipython",
    "version": 3
   },
   "file_extension": ".py",
   "mimetype": "text/x-python",
   "name": "python",
   "nbconvert_exporter": "python",
   "pygments_lexer": "ipython3",
   "version": "3.10.12"
  }
 },
 "nbformat": 4,
 "nbformat_minor": 2
}
